{
  "cells": [
    {
      "cell_type": "code",
      "execution_count": null,
      "metadata": {
        "id": "dnQ2LZlaCX_2"
      },
      "outputs": [],
      "source": [
        "# Import dependencies\n",
        "import psycopg2\n",
        "import pandas as pd\n",
        "from sklearn.model_selection import train_test_split\n",
        "from sklearn.preprocessing import StandardScaler,OneHotEncoder\n",
        "import tensorflow as tf\n",
        "from sklearn.ensemble import RandomForestRegressor\n",
        "from sklearn import metrics\n",
        "import numpy as np\n",
        "from sklearn.metrics import classification_report, confusion_matrix, accuracy_score"
      ]
    },
    {
      "cell_type": "code",
      "execution_count": null,
      "metadata": {
        "id": "9h0MNZTgOWyr"
      },
      "outputs": [],
      "source": [
        "# Set up connection to database\n",
        "engine = psycopg2.connect(\n",
        "    database=\"stroke_dataset\",\n",
        "    user = \"postgres\",\n",
        "    password = \"bootcamp\",\n",
        "    host = \"final-project.cpi4gz0jwsu4.us-west-1.rds.amazonaws.com\",\n",
        "    port = '5432'\n",
        "    )\n",
        "\n",
        "cursor = engine.cursor()"
      ]
    },
    {
      "cell_type": "code",
      "execution_count": null,
      "metadata": {
        "id": "QUkbWTsZ8GMJ"
      },
      "outputs": [],
      "source": [
        "# Pull in working dataset from database\n",
        "sql = \"\"\"\n",
        "SELECT \"FIPS\", \"Num_Per_100k\", \"State\", \"County\", \"Percent_Smokers\", \"Percent_Obese\", \"Food_Environment_Index\", \"Percent_Access_Exercise\", \"Primary_Care_Physician_Rate\", \"Mental_Health_Providers_Rate\", \"Percent_Some_College\", \"Percent_Unemployed\", \"Income_Inequality_Ratio\", \"Violent_Crime_Rate\", \"Average_Daily_Air_Polution_Particle_Matter\", \"Percent_Long_Commute_Drives_Alone\", \"Percent_Rural\"\n",
        "FROM public.\"All_Data\"\n",
        "\"\"\"\n",
        "\n",
        "all_data_df = pd.read_sql(sql, con=engine)\n",
        "all_data_df.head()"
      ]
    },
    {
      "cell_type": "code",
      "execution_count": null,
      "metadata": {
        "colab": {
          "base_uri": "https://localhost:8080/"
        },
        "id": "Lfqm4RuEc4ya",
        "outputId": "8e2f1c41-e352-4726-e47b-2bd86e2558b2"
      },
      "outputs": [
        {
          "data": {
            "text/plain": [
              "FIPS                                          0\n",
              "Num_Per_100k                                  0\n",
              "State                                         0\n",
              "County                                        0\n",
              "Percent_Smokers                               0\n",
              "Percent_Obese                                 0\n",
              "Food_Environment_Index                        0\n",
              "Percent_Access_Exercise                       0\n",
              "Primary_Care_Physician_Rate                   0\n",
              "Mental_Health_Providers_Rate                  0\n",
              "Percent_Some_College                          0\n",
              "Percent_Unemployed                            0\n",
              "Income_Inequality_Ratio                       0\n",
              "Violent_Crime_Rate                            0\n",
              "Average_Daily_Air_Polution_Particle_Matter    0\n",
              "Percent_Long_Commute_Drives_Alone             0\n",
              "Percent_Rural                                 0\n",
              "dtype: int64"
            ]
          },
          "execution_count": 25,
          "metadata": {},
          "output_type": "execute_result"
        }
      ],
      "source": [
        "# Check for null values\n",
        "all_data_df.isnull().sum()"
      ]
    },
    {
      "cell_type": "code",
      "execution_count": null,
      "metadata": {
        "id": "uRqNh52VeTdF"
      },
      "outputs": [],
      "source": [
        "# Drop null values\n",
        "all_data_df = all_data_df.dropna(axis=0)"
      ]
    },
    {
      "cell_type": "code",
      "execution_count": null,
      "metadata": {
        "colab": {
          "base_uri": "https://localhost:8080/",
          "height": 307
        },
        "id": "TztloevlMKhI",
        "outputId": "0e144dce-9fc6-4942-d23b-7890b07dfd92"
      },
      "outputs": [
        {
          "name": "stderr",
          "output_type": "stream",
          "text": [
            "/usr/local/lib/python3.7/dist-packages/ipykernel_launcher.py:2: FutureWarning: In a future version of pandas all arguments of DataFrame.drop except for the argument 'labels' will be keyword-only\n",
            "  \n"
          ]
        },
        {
          "data": {
            "text/html": [
              "\n",
              "  <div id=\"df-fee6b1e7-b672-43f8-9315-b05537ebc39b\">\n",
              "    <div class=\"colab-df-container\">\n",
              "      <div>\n",
              "<style scoped>\n",
              "    .dataframe tbody tr th:only-of-type {\n",
              "        vertical-align: middle;\n",
              "    }\n",
              "\n",
              "    .dataframe tbody tr th {\n",
              "        vertical-align: top;\n",
              "    }\n",
              "\n",
              "    .dataframe thead th {\n",
              "        text-align: right;\n",
              "    }\n",
              "</style>\n",
              "<table border=\"1\" class=\"dataframe\">\n",
              "  <thead>\n",
              "    <tr style=\"text-align: right;\">\n",
              "      <th></th>\n",
              "      <th>Num_Per_100k</th>\n",
              "      <th>Percent_Smokers</th>\n",
              "      <th>Percent_Obese</th>\n",
              "      <th>Food_Environment_Index</th>\n",
              "      <th>Percent_Access_Exercise</th>\n",
              "      <th>Primary_Care_Physician_Rate</th>\n",
              "      <th>Mental_Health_Providers_Rate</th>\n",
              "      <th>Percent_Some_College</th>\n",
              "      <th>Percent_Unemployed</th>\n",
              "      <th>Income_Inequality_Ratio</th>\n",
              "      <th>Violent_Crime_Rate</th>\n",
              "      <th>Average_Daily_Air_Polution_Particle_Matter</th>\n",
              "      <th>Percent_Long_Commute_Drives_Alone</th>\n",
              "      <th>Percent_Rural</th>\n",
              "    </tr>\n",
              "  </thead>\n",
              "  <tbody>\n",
              "    <tr>\n",
              "      <th>0</th>\n",
              "      <td>107.0</td>\n",
              "      <td>19.0</td>\n",
              "      <td>36.0</td>\n",
              "      <td>7.1</td>\n",
              "      <td>71.0</td>\n",
              "      <td>45.0</td>\n",
              "      <td>13.0</td>\n",
              "      <td>61.9</td>\n",
              "      <td>5.3</td>\n",
              "      <td>4.4</td>\n",
              "      <td>266.0</td>\n",
              "      <td>10.8</td>\n",
              "      <td>41.0</td>\n",
              "      <td>42.0</td>\n",
              "    </tr>\n",
              "    <tr>\n",
              "      <th>1</th>\n",
              "      <td>82.5</td>\n",
              "      <td>17.0</td>\n",
              "      <td>29.0</td>\n",
              "      <td>7.9</td>\n",
              "      <td>69.0</td>\n",
              "      <td>73.0</td>\n",
              "      <td>89.0</td>\n",
              "      <td>63.8</td>\n",
              "      <td>5.4</td>\n",
              "      <td>4.6</td>\n",
              "      <td>217.0</td>\n",
              "      <td>9.6</td>\n",
              "      <td>40.0</td>\n",
              "      <td>42.3</td>\n",
              "    </tr>\n",
              "    <tr>\n",
              "      <th>2</th>\n",
              "      <td>96.1</td>\n",
              "      <td>22.0</td>\n",
              "      <td>44.0</td>\n",
              "      <td>5.5</td>\n",
              "      <td>53.0</td>\n",
              "      <td>42.0</td>\n",
              "      <td>8.0</td>\n",
              "      <td>39.7</td>\n",
              "      <td>8.6</td>\n",
              "      <td>5.9</td>\n",
              "      <td>329.0</td>\n",
              "      <td>10.1</td>\n",
              "      <td>35.0</td>\n",
              "      <td>67.8</td>\n",
              "    </tr>\n",
              "    <tr>\n",
              "      <th>3</th>\n",
              "      <td>112.3</td>\n",
              "      <td>20.0</td>\n",
              "      <td>38.0</td>\n",
              "      <td>7.6</td>\n",
              "      <td>49.0</td>\n",
              "      <td>53.0</td>\n",
              "      <td>9.0</td>\n",
              "      <td>49.8</td>\n",
              "      <td>6.6</td>\n",
              "      <td>4.2</td>\n",
              "      <td>147.0</td>\n",
              "      <td>10.5</td>\n",
              "      <td>49.0</td>\n",
              "      <td>68.4</td>\n",
              "    </tr>\n",
              "    <tr>\n",
              "      <th>4</th>\n",
              "      <td>96.1</td>\n",
              "      <td>20.0</td>\n",
              "      <td>36.0</td>\n",
              "      <td>8.5</td>\n",
              "      <td>32.0</td>\n",
              "      <td>21.0</td>\n",
              "      <td>9.0</td>\n",
              "      <td>53.9</td>\n",
              "      <td>5.5</td>\n",
              "      <td>4.1</td>\n",
              "      <td>212.0</td>\n",
              "      <td>11.3</td>\n",
              "      <td>60.0</td>\n",
              "      <td>90.0</td>\n",
              "    </tr>\n",
              "  </tbody>\n",
              "</table>\n",
              "</div>\n",
              "      <button class=\"colab-df-convert\" onclick=\"convertToInteractive('df-fee6b1e7-b672-43f8-9315-b05537ebc39b')\"\n",
              "              title=\"Convert this dataframe to an interactive table.\"\n",
              "              style=\"display:none;\">\n",
              "        \n",
              "  <svg xmlns=\"http://www.w3.org/2000/svg\" height=\"24px\"viewBox=\"0 0 24 24\"\n",
              "       width=\"24px\">\n",
              "    <path d=\"M0 0h24v24H0V0z\" fill=\"none\"/>\n",
              "    <path d=\"M18.56 5.44l.94 2.06.94-2.06 2.06-.94-2.06-.94-.94-2.06-.94 2.06-2.06.94zm-11 1L8.5 8.5l.94-2.06 2.06-.94-2.06-.94L8.5 2.5l-.94 2.06-2.06.94zm10 10l.94 2.06.94-2.06 2.06-.94-2.06-.94-.94-2.06-.94 2.06-2.06.94z\"/><path d=\"M17.41 7.96l-1.37-1.37c-.4-.4-.92-.59-1.43-.59-.52 0-1.04.2-1.43.59L10.3 9.45l-7.72 7.72c-.78.78-.78 2.05 0 2.83L4 21.41c.39.39.9.59 1.41.59.51 0 1.02-.2 1.41-.59l7.78-7.78 2.81-2.81c.8-.78.8-2.07 0-2.86zM5.41 20L4 18.59l7.72-7.72 1.47 1.35L5.41 20z\"/>\n",
              "  </svg>\n",
              "      </button>\n",
              "      \n",
              "  <style>\n",
              "    .colab-df-container {\n",
              "      display:flex;\n",
              "      flex-wrap:wrap;\n",
              "      gap: 12px;\n",
              "    }\n",
              "\n",
              "    .colab-df-convert {\n",
              "      background-color: #E8F0FE;\n",
              "      border: none;\n",
              "      border-radius: 50%;\n",
              "      cursor: pointer;\n",
              "      display: none;\n",
              "      fill: #1967D2;\n",
              "      height: 32px;\n",
              "      padding: 0 0 0 0;\n",
              "      width: 32px;\n",
              "    }\n",
              "\n",
              "    .colab-df-convert:hover {\n",
              "      background-color: #E2EBFA;\n",
              "      box-shadow: 0px 1px 2px rgba(60, 64, 67, 0.3), 0px 1px 3px 1px rgba(60, 64, 67, 0.15);\n",
              "      fill: #174EA6;\n",
              "    }\n",
              "\n",
              "    [theme=dark] .colab-df-convert {\n",
              "      background-color: #3B4455;\n",
              "      fill: #D2E3FC;\n",
              "    }\n",
              "\n",
              "    [theme=dark] .colab-df-convert:hover {\n",
              "      background-color: #434B5C;\n",
              "      box-shadow: 0px 1px 3px 1px rgba(0, 0, 0, 0.15);\n",
              "      filter: drop-shadow(0px 1px 2px rgba(0, 0, 0, 0.3));\n",
              "      fill: #FFFFFF;\n",
              "    }\n",
              "  </style>\n",
              "\n",
              "      <script>\n",
              "        const buttonEl =\n",
              "          document.querySelector('#df-fee6b1e7-b672-43f8-9315-b05537ebc39b button.colab-df-convert');\n",
              "        buttonEl.style.display =\n",
              "          google.colab.kernel.accessAllowed ? 'block' : 'none';\n",
              "\n",
              "        async function convertToInteractive(key) {\n",
              "          const element = document.querySelector('#df-fee6b1e7-b672-43f8-9315-b05537ebc39b');\n",
              "          const dataTable =\n",
              "            await google.colab.kernel.invokeFunction('convertToInteractive',\n",
              "                                                     [key], {});\n",
              "          if (!dataTable) return;\n",
              "\n",
              "          const docLinkHtml = 'Like what you see? Visit the ' +\n",
              "            '<a target=\"_blank\" href=https://colab.research.google.com/notebooks/data_table.ipynb>data table notebook</a>'\n",
              "            + ' to learn more about interactive tables.';\n",
              "          element.innerHTML = '';\n",
              "          dataTable['output_type'] = 'display_data';\n",
              "          await google.colab.output.renderOutput(dataTable, element);\n",
              "          const docLink = document.createElement('div');\n",
              "          docLink.innerHTML = docLinkHtml;\n",
              "          element.appendChild(docLink);\n",
              "        }\n",
              "      </script>\n",
              "    </div>\n",
              "  </div>\n",
              "  "
            ],
            "text/plain": [
              "   Num_Per_100k  Percent_Smokers  Percent_Obese  Food_Environment_Index  \\\n",
              "0         107.0             19.0           36.0                     7.1   \n",
              "1          82.5             17.0           29.0                     7.9   \n",
              "2          96.1             22.0           44.0                     5.5   \n",
              "3         112.3             20.0           38.0                     7.6   \n",
              "4          96.1             20.0           36.0                     8.5   \n",
              "\n",
              "   Percent_Access_Exercise  Primary_Care_Physician_Rate  \\\n",
              "0                     71.0                         45.0   \n",
              "1                     69.0                         73.0   \n",
              "2                     53.0                         42.0   \n",
              "3                     49.0                         53.0   \n",
              "4                     32.0                         21.0   \n",
              "\n",
              "   Mental_Health_Providers_Rate  Percent_Some_College  Percent_Unemployed  \\\n",
              "0                          13.0                  61.9                 5.3   \n",
              "1                          89.0                  63.8                 5.4   \n",
              "2                           8.0                  39.7                 8.6   \n",
              "3                           9.0                  49.8                 6.6   \n",
              "4                           9.0                  53.9                 5.5   \n",
              "\n",
              "   Income_Inequality_Ratio  Violent_Crime_Rate  \\\n",
              "0                      4.4               266.0   \n",
              "1                      4.6               217.0   \n",
              "2                      5.9               329.0   \n",
              "3                      4.2               147.0   \n",
              "4                      4.1               212.0   \n",
              "\n",
              "   Average_Daily_Air_Polution_Particle_Matter  \\\n",
              "0                                        10.8   \n",
              "1                                         9.6   \n",
              "2                                        10.1   \n",
              "3                                        10.5   \n",
              "4                                        11.3   \n",
              "\n",
              "   Percent_Long_Commute_Drives_Alone  Percent_Rural  \n",
              "0                               41.0           42.0  \n",
              "1                               40.0           42.3  \n",
              "2                               35.0           67.8  \n",
              "3                               49.0           68.4  \n",
              "4                               60.0           90.0  "
            ]
          },
          "execution_count": 60,
          "metadata": {},
          "output_type": "execute_result"
        }
      ],
      "source": [
        "# Drop identifier columns\n",
        "all_data_usable_df = all_data_df.drop([\"FIPS\", \"State\", \"County\"], 1)\n",
        "all_data_usable_df.head()"
      ]
    },
    {
      "cell_type": "markdown",
      "metadata": {
        "id": "D84Dn78ICqel"
      },
      "source": [
        "Random Forest Regressor - all features"
      ]
    },
    {
      "cell_type": "code",
      "execution_count": null,
      "metadata": {
        "id": "XfIjKJALCwj-"
      },
      "outputs": [],
      "source": [
        "# https://stackabuse.com/random-forest-algorithm-with-python-and-scikit-learn/\n",
        "# Divide data into attributes and labels\n",
        "\n",
        "X = all_data_usable_df.iloc[:, 1:13].values\n",
        "y = all_data_usable_df.iloc[:, 0].values"
      ]
    },
    {
      "cell_type": "code",
      "execution_count": null,
      "metadata": {
        "id": "qUKSeOclC4YP"
      },
      "outputs": [],
      "source": [
        "# Divide data into training and testing sets\n",
        "X_train, X_test, y_train, y_test = train_test_split(X, y, test_size=0.2, random_state=0)"
      ]
    },
    {
      "cell_type": "code",
      "execution_count": null,
      "metadata": {
        "id": "_QHYFpu0C_dT"
      },
      "outputs": [],
      "source": [
        "# Feature Scaling\n",
        "sc = StandardScaler()\n",
        "X_train = sc.fit_transform(X_train)\n",
        "X_test = sc.transform(X_test)"
      ]
    },
    {
      "cell_type": "code",
      "execution_count": null,
      "metadata": {
        "id": "uWVIJ8QrDFC1"
      },
      "outputs": [],
      "source": [
        "# Train random forest algorithm to solve this regression problem\n",
        "regressor = RandomForestRegressor(n_estimators=20, random_state=0)\n",
        "regressor.fit(X_train, y_train)\n",
        "y_pred = regressor.predict(X_test)\n",
        "\n",
        "print('Mean Absolute Error:', metrics.mean_absolute_error(y_test, y_pred))\n",
        "print('Mean Squared Error:', metrics.mean_squared_error(y_test, y_pred))\n",
        "print('Root Mean Squared Error:', np.sqrt(metrics.mean_squared_error(y_test, y_pred)))"
      ]
    },
    {
      "cell_type": "code",
      "execution_count": null,
      "metadata": {
        "id": "83Fsnp5iDWtj"
      },
      "outputs": [],
      "source": [
        "# Increase estimators to 50\n",
        "regressor2 = RandomForestRegressor(n_estimators=50, random_state=0)\n",
        "regressor2.fit(X_train, y_train)\n",
        "y_pred2 = regressor2.predict(X_test)\n",
        "\n",
        "print('Mean Absolute Error:', metrics.mean_absolute_error(y_test, y_pred2))\n",
        "print('Mean Squared Error:', metrics.mean_squared_error(y_test, y_pred2))\n",
        "print('Root Mean Squared Error:', np.sqrt(metrics.mean_squared_error(y_test, y_pred2)))"
      ]
    },
    {
      "cell_type": "code",
      "execution_count": null,
      "metadata": {
        "id": "OJ1-3h73Do3e"
      },
      "outputs": [],
      "source": [
        "# Change estimators to 30\n",
        "regressor3 = RandomForestRegressor(n_estimators=30, random_state=0)\n",
        "regressor3.fit(X_train, y_train)\n",
        "y_pred3 = regressor3.predict(X_test)\n",
        "\n",
        "print('Mean Absolute Error:', metrics.mean_absolute_error(y_test, y_pred3))\n",
        "print('Mean Squared Error:', metrics.mean_squared_error(y_test, y_pred3))\n",
        "print('Root Mean Squared Error:', np.sqrt(metrics.mean_squared_error(y_test, y_pred3)))"
      ]
    },
    {
      "cell_type": "markdown",
      "metadata": {
        "id": "pul99ZcrEBWO"
      },
      "source": [
        "Random Forest Regressor - health features"
      ]
    },
    {
      "cell_type": "code",
      "execution_count": null,
      "metadata": {
        "id": "tKkKyL77Np8h"
      },
      "outputs": [],
      "source": [
        "# Drop non-health feature columns\n",
        "health_features_df = all_data_usable_df.drop([\"Percent_Rural\", \"Percent_Long_Commute_Drives_Alone\", \"Average_Daily_Air_Polution_Particle_Matter\", \"Violent_Crime_Rate\", \"Income_Inequality_Ratio\", \"Percent_Unemployed\", \"Percent_Some_College\"], 1)\n",
        "health_features_df.head()"
      ]
    },
    {
      "cell_type": "code",
      "execution_count": null,
      "metadata": {
        "id": "rHM2DLIFRI1H"
      },
      "outputs": [],
      "source": [
        "# Divide into attributes and labels\n",
        "X = all_data_usable_df.iloc[:, 1:7].values\n",
        "y = all_data_usable_df.iloc[:, 0].values"
      ]
    },
    {
      "cell_type": "code",
      "execution_count": null,
      "metadata": {
        "id": "E9VSW4ubRI6M"
      },
      "outputs": [],
      "source": [
        "# Divide data into training and testing sets\n",
        "X_train, X_test, y_train, y_test = train_test_split(X, y, test_size=0.2, random_state=0)"
      ]
    },
    {
      "cell_type": "code",
      "execution_count": null,
      "metadata": {
        "id": "9Sn-Qb6HRI8p"
      },
      "outputs": [],
      "source": [
        "# Scale Features\n",
        "sc = StandardScaler()\n",
        "X_train = sc.fit_transform(X_train)\n",
        "X_test = sc.transform(X_test)"
      ]
    },
    {
      "cell_type": "code",
      "execution_count": null,
      "metadata": {
        "id": "tl0WND17RI_1"
      },
      "outputs": [],
      "source": [
        "# Train random forest algorithm to solve this regression problem\n",
        "regressor = RandomForestRegressor(n_estimators=20, random_state=0)\n",
        "regressor.fit(X_train, y_train)\n",
        "y_pred = regressor.predict(X_test)\n",
        "\n",
        "print('Mean Absolute Error:', metrics.mean_absolute_error(y_test, y_pred))\n",
        "print('Mean Squared Error:', metrics.mean_squared_error(y_test, y_pred))\n",
        "print('Root Mean Squared Error:', np.sqrt(metrics.mean_squared_error(y_test, y_pred)))"
      ]
    },
    {
      "cell_type": "code",
      "execution_count": null,
      "metadata": {
        "id": "4cwnU6jGNp_t"
      },
      "outputs": [],
      "source": [
        "# Increase estimators to 50\n",
        "regressor2 = RandomForestRegressor(n_estimators=50, random_state=0)\n",
        "regressor2.fit(X_train, y_train)\n",
        "y_pred2 = regressor2.predict(X_test)\n",
        "\n",
        "print('Mean Absolute Error:', metrics.mean_absolute_error(y_test, y_pred2))\n",
        "print('Mean Squared Error:', metrics.mean_squared_error(y_test, y_pred2))\n",
        "print('Root Mean Squared Error:', np.sqrt(metrics.mean_squared_error(y_test, y_pred2)))"
      ]
    },
    {
      "cell_type": "code",
      "execution_count": null,
      "metadata": {
        "id": "OVa1DBbdKdnw"
      },
      "outputs": [],
      "source": [
        "# Change estimators to 30\n",
        "regressor3 = RandomForestRegressor(n_estimators=30, random_state=0)\n",
        "regressor3.fit(X_train, y_train)\n",
        "y_pred3 = regressor3.predict(X_test)\n",
        "\n",
        "print('Mean Absolute Error:', metrics.mean_absolute_error(y_test, y_pred3))\n",
        "print('Mean Squared Error:', metrics.mean_squared_error(y_test, y_pred3))\n",
        "print('Root Mean Squared Error:', np.sqrt(metrics.mean_squared_error(y_test, y_pred3)))"
      ]
    },
    {
      "cell_type": "markdown",
      "metadata": {
        "id": "hZUOXG_nEwhA"
      },
      "source": [
        "Random Forest Regressor - environment / economic features"
      ]
    },
    {
      "cell_type": "code",
      "execution_count": null,
      "metadata": {
        "id": "yWbaJm7QKdqj"
      },
      "outputs": [],
      "source": [
        "ee_features_df = all_data_usable_df.drop([\"Percent_Smokers\", \"Percent_Obese\", \"Food_Environment_Index\", \"Percent_Access_Exercise\", \"Primary_Care_Physician_Rate\", \"Mental_Health_Providers_Rate\"], 1)\n",
        "ee_features_df.head()"
      ]
    },
    {
      "cell_type": "code",
      "execution_count": null,
      "metadata": {
        "id": "8B9QIgSC6YzN"
      },
      "outputs": [],
      "source": [
        "# Divide into attributes and labels\n",
        "X = all_data_usable_df.iloc[:, 1:6].values\n",
        "y = all_data_usable_df.iloc[:, 0].values"
      ]
    },
    {
      "cell_type": "code",
      "execution_count": null,
      "metadata": {
        "id": "fKlSONvwFXtq"
      },
      "outputs": [],
      "source": [
        "# Divide data into training and testing sets\n",
        "X_train, X_test, y_train, y_test = train_test_split(X, y, test_size=0.2, random_state=0)"
      ]
    },
    {
      "cell_type": "code",
      "execution_count": null,
      "metadata": {
        "id": "8yUBUzagFbfU"
      },
      "outputs": [],
      "source": [
        "# Scale Features\n",
        "sc = StandardScaler()\n",
        "X_train = sc.fit_transform(X_train)\n",
        "X_test = sc.transform(X_test)"
      ]
    },
    {
      "cell_type": "code",
      "execution_count": null,
      "metadata": {
        "id": "N7cMm9TXFe5c"
      },
      "outputs": [],
      "source": [
        "# Train random forest algorithm to solve this regression problem\n",
        "regressor = RandomForestRegressor(n_estimators=20, random_state=0)\n",
        "regressor.fit(X_train, y_train)\n",
        "y_pred = regressor.predict(X_test)\n",
        "\n",
        "print('Mean Absolute Error:', metrics.mean_absolute_error(y_test, y_pred))\n",
        "print('Mean Squared Error:', metrics.mean_squared_error(y_test, y_pred))\n",
        "print('Root Mean Squared Error:', np.sqrt(metrics.mean_squared_error(y_test, y_pred)))"
      ]
    },
    {
      "cell_type": "code",
      "execution_count": null,
      "metadata": {
        "id": "nT2jdvSQFg18"
      },
      "outputs": [],
      "source": [
        "# Increase estimators to 50\n",
        "regressor2 = RandomForestRegressor(n_estimators=50, random_state=0)\n",
        "regressor2.fit(X_train, y_train)\n",
        "y_pred2 = regressor2.predict(X_test)\n",
        "\n",
        "print('Mean Absolute Error:', metrics.mean_absolute_error(y_test, y_pred2))\n",
        "print('Mean Squared Error:', metrics.mean_squared_error(y_test, y_pred2))\n",
        "print('Root Mean Squared Error:', np.sqrt(metrics.mean_squared_error(y_test, y_pred2)))"
      ]
    },
    {
      "cell_type": "code",
      "execution_count": null,
      "metadata": {
        "id": "c-6OK_RkFkW3"
      },
      "outputs": [],
      "source": [
        "# Change estimators to 30\n",
        "regressor3 = RandomForestRegressor(n_estimators=30, random_state=0)\n",
        "regressor3.fit(X_train, y_train)\n",
        "y_pred3 = regressor3.predict(X_test)\n",
        "\n",
        "print('Mean Absolute Error:', metrics.mean_absolute_error(y_test, y_pred3))\n",
        "print('Mean Squared Error:', metrics.mean_squared_error(y_test, y_pred3))\n",
        "print('Root Mean Squared Error:', np.sqrt(metrics.mean_squared_error(y_test, y_pred3)))"
      ]
    },
    {
      "cell_type": "markdown",
      "metadata": {
        "id": "t0WX49QAFm17"
      },
      "source": [
        "Random Forest Regressor - features of importance"
      ]
    },
    {
      "cell_type": "code",
      "execution_count": null,
      "metadata": {
        "id": "SSqyitXtFruI"
      },
      "outputs": [],
      "source": []
    }
  ],
  "metadata": {
    "colab": {
      "collapsed_sections": [],
      "name": "RFR_draft_project_ML.ipynb",
      "provenance": []
    },
    "kernelspec": {
      "display_name": "Python 3",
      "name": "python3"
    },
    "language_info": {
      "name": "python"
    }
  },
  "nbformat": 4,
  "nbformat_minor": 0
}
