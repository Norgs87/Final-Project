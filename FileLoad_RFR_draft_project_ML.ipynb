{
  "cells": [
    {
      "cell_type": "code",
      "execution_count": 1,
      "metadata": {
        "colab": {
          "base_uri": "https://localhost:8080/"
        },
        "id": "dnQ2LZlaCX_2",
        "outputId": "fa7f98c9-9141-47f0-ce51-99d45e08115c"
      },
      "outputs": [
        {
          "name": "stderr",
          "output_type": "stream",
          "text": [
            "/usr/local/lib/python3.7/dist-packages/psycopg2/__init__.py:144: UserWarning: The psycopg2 wheel package will be renamed from release 2.8; in order to keep installing from binary please use \"pip install psycopg2-binary\" instead. For details see: <http://initd.org/psycopg/docs/install.html#binary-install-from-pypi>.\n",
            "  \"\"\")\n"
          ]
        }
      ],
      "source": [
        "# Import dependencies\n",
        "import psycopg2\n",
        "import pandas as pd\n",
        "from sklearn.model_selection import train_test_split\n",
        "from sklearn.preprocessing import StandardScaler,OneHotEncoder\n",
        "import tensorflow as tf\n",
        "from sklearn.ensemble import RandomForestRegressor\n",
        "from sklearn import metrics\n",
        "import numpy as np\n",
        "from sklearn.metrics import classification_report, confusion_matrix, accuracy_score"
      ]
    },
    {
      "cell_type": "code",
      "execution_count": 2,
      "metadata": {
        "colab": {
          "base_uri": "https://localhost:8080/",
          "height": 73,
          "resources": {
            "http://localhost:8080/nbextensions/google.colab/files.js": {
              "data": "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",
              "headers": [
                [
                  "content-type",
                  "application/javascript"
                ]
              ],
              "ok": true,
              "status": 200,
              "status_text": ""
            }
          }
        },
        "id": "KYIFPbwqKRZo",
        "outputId": "b009d9b9-a35a-461e-d0f9-f10e973c8b31"
      },
      "outputs": [
        {
          "data": {
            "text/html": [
              "\n",
              "     <input type=\"file\" id=\"files-98eaeb00-181b-4a09-83de-793ff09d18e3\" name=\"files[]\" multiple disabled\n",
              "        style=\"border:none\" />\n",
              "     <output id=\"result-98eaeb00-181b-4a09-83de-793ff09d18e3\">\n",
              "      Upload widget is only available when the cell has been executed in the\n",
              "      current browser session. Please rerun this cell to enable.\n",
              "      </output>\n",
              "      <script src=\"/nbextensions/google.colab/files.js\"></script> "
            ],
            "text/plain": [
              "<IPython.core.display.HTML object>"
            ]
          },
          "metadata": {},
          "output_type": "display_data"
        },
        {
          "name": "stdout",
          "output_type": "stream",
          "text": [
            "Saving All_Data.csv to All_Data.csv\n"
          ]
        }
      ],
      "source": [
        "from google.colab import files\n",
        "uploaded = files.upload()"
      ]
    },
    {
      "cell_type": "code",
      "execution_count": 3,
      "metadata": {
        "colab": {
          "base_uri": "https://localhost:8080/",
          "height": 270
        },
        "id": "QUkbWTsZ8GMJ",
        "outputId": "52ad927e-d07e-47d8-a9bc-6c2ca8895d9c"
      },
      "outputs": [
        {
          "data": {
            "text/html": [
              "\n",
              "  <div id=\"df-4642784f-7fa5-43de-aaa7-deb581ab48e5\">\n",
              "    <div class=\"colab-df-container\">\n",
              "      <div>\n",
              "<style scoped>\n",
              "    .dataframe tbody tr th:only-of-type {\n",
              "        vertical-align: middle;\n",
              "    }\n",
              "\n",
              "    .dataframe tbody tr th {\n",
              "        vertical-align: top;\n",
              "    }\n",
              "\n",
              "    .dataframe thead th {\n",
              "        text-align: right;\n",
              "    }\n",
              "</style>\n",
              "<table border=\"1\" class=\"dataframe\">\n",
              "  <thead>\n",
              "    <tr style=\"text-align: right;\">\n",
              "      <th></th>\n",
              "      <th>FIPS</th>\n",
              "      <th>Num_Per_100k</th>\n",
              "      <th>State</th>\n",
              "      <th>County</th>\n",
              "      <th>Percent_Smokers</th>\n",
              "      <th>Percent_Obese</th>\n",
              "      <th>Food_Environment_Index</th>\n",
              "      <th>Percent_Access_Exercise</th>\n",
              "      <th>Primary_Care_Physician_Rate</th>\n",
              "      <th>Mental_Health_Providers_Rate</th>\n",
              "      <th>Percent_Some_College</th>\n",
              "      <th>Percent_Unemployed</th>\n",
              "      <th>Income_Inequality_Ratio</th>\n",
              "      <th>Violent_Crime_Rate</th>\n",
              "      <th>Average_Daily_Air_Polution_Particle_Matter</th>\n",
              "      <th>Percent_Long_Commute_Drives_Alone</th>\n",
              "      <th>Percent_Rural</th>\n",
              "    </tr>\n",
              "  </thead>\n",
              "  <tbody>\n",
              "    <tr>\n",
              "      <th>0</th>\n",
              "      <td>1001</td>\n",
              "      <td>107.0</td>\n",
              "      <td>Alabama</td>\n",
              "      <td>Autauga</td>\n",
              "      <td>19.0</td>\n",
              "      <td>36.0</td>\n",
              "      <td>7.1</td>\n",
              "      <td>71.0</td>\n",
              "      <td>45.0</td>\n",
              "      <td>13.0</td>\n",
              "      <td>61.9</td>\n",
              "      <td>5.3</td>\n",
              "      <td>4.4</td>\n",
              "      <td>266.0</td>\n",
              "      <td>10.8</td>\n",
              "      <td>41.0</td>\n",
              "      <td>42.0</td>\n",
              "    </tr>\n",
              "    <tr>\n",
              "      <th>1</th>\n",
              "      <td>1003</td>\n",
              "      <td>82.5</td>\n",
              "      <td>Alabama</td>\n",
              "      <td>Baldwin</td>\n",
              "      <td>17.0</td>\n",
              "      <td>29.0</td>\n",
              "      <td>7.9</td>\n",
              "      <td>69.0</td>\n",
              "      <td>73.0</td>\n",
              "      <td>89.0</td>\n",
              "      <td>63.8</td>\n",
              "      <td>5.4</td>\n",
              "      <td>4.6</td>\n",
              "      <td>217.0</td>\n",
              "      <td>9.6</td>\n",
              "      <td>40.0</td>\n",
              "      <td>42.3</td>\n",
              "    </tr>\n",
              "    <tr>\n",
              "      <th>2</th>\n",
              "      <td>1005</td>\n",
              "      <td>96.1</td>\n",
              "      <td>Alabama</td>\n",
              "      <td>Barbour</td>\n",
              "      <td>22.0</td>\n",
              "      <td>44.0</td>\n",
              "      <td>5.5</td>\n",
              "      <td>53.0</td>\n",
              "      <td>42.0</td>\n",
              "      <td>8.0</td>\n",
              "      <td>39.7</td>\n",
              "      <td>8.6</td>\n",
              "      <td>5.9</td>\n",
              "      <td>329.0</td>\n",
              "      <td>10.1</td>\n",
              "      <td>35.0</td>\n",
              "      <td>67.8</td>\n",
              "    </tr>\n",
              "    <tr>\n",
              "      <th>3</th>\n",
              "      <td>1007</td>\n",
              "      <td>112.3</td>\n",
              "      <td>Alabama</td>\n",
              "      <td>Bibb</td>\n",
              "      <td>20.0</td>\n",
              "      <td>38.0</td>\n",
              "      <td>7.6</td>\n",
              "      <td>49.0</td>\n",
              "      <td>53.0</td>\n",
              "      <td>9.0</td>\n",
              "      <td>49.8</td>\n",
              "      <td>6.6</td>\n",
              "      <td>4.2</td>\n",
              "      <td>147.0</td>\n",
              "      <td>10.5</td>\n",
              "      <td>49.0</td>\n",
              "      <td>68.4</td>\n",
              "    </tr>\n",
              "    <tr>\n",
              "      <th>4</th>\n",
              "      <td>1009</td>\n",
              "      <td>96.1</td>\n",
              "      <td>Alabama</td>\n",
              "      <td>Blount</td>\n",
              "      <td>20.0</td>\n",
              "      <td>36.0</td>\n",
              "      <td>8.5</td>\n",
              "      <td>32.0</td>\n",
              "      <td>21.0</td>\n",
              "      <td>9.0</td>\n",
              "      <td>53.9</td>\n",
              "      <td>5.5</td>\n",
              "      <td>4.1</td>\n",
              "      <td>212.0</td>\n",
              "      <td>11.3</td>\n",
              "      <td>60.0</td>\n",
              "      <td>90.0</td>\n",
              "    </tr>\n",
              "  </tbody>\n",
              "</table>\n",
              "</div>\n",
              "      <button class=\"colab-df-convert\" onclick=\"convertToInteractive('df-4642784f-7fa5-43de-aaa7-deb581ab48e5')\"\n",
              "              title=\"Convert this dataframe to an interactive table.\"\n",
              "              style=\"display:none;\">\n",
              "        \n",
              "  <svg xmlns=\"http://www.w3.org/2000/svg\" height=\"24px\"viewBox=\"0 0 24 24\"\n",
              "       width=\"24px\">\n",
              "    <path d=\"M0 0h24v24H0V0z\" fill=\"none\"/>\n",
              "    <path d=\"M18.56 5.44l.94 2.06.94-2.06 2.06-.94-2.06-.94-.94-2.06-.94 2.06-2.06.94zm-11 1L8.5 8.5l.94-2.06 2.06-.94-2.06-.94L8.5 2.5l-.94 2.06-2.06.94zm10 10l.94 2.06.94-2.06 2.06-.94-2.06-.94-.94-2.06-.94 2.06-2.06.94z\"/><path d=\"M17.41 7.96l-1.37-1.37c-.4-.4-.92-.59-1.43-.59-.52 0-1.04.2-1.43.59L10.3 9.45l-7.72 7.72c-.78.78-.78 2.05 0 2.83L4 21.41c.39.39.9.59 1.41.59.51 0 1.02-.2 1.41-.59l7.78-7.78 2.81-2.81c.8-.78.8-2.07 0-2.86zM5.41 20L4 18.59l7.72-7.72 1.47 1.35L5.41 20z\"/>\n",
              "  </svg>\n",
              "      </button>\n",
              "      \n",
              "  <style>\n",
              "    .colab-df-container {\n",
              "      display:flex;\n",
              "      flex-wrap:wrap;\n",
              "      gap: 12px;\n",
              "    }\n",
              "\n",
              "    .colab-df-convert {\n",
              "      background-color: #E8F0FE;\n",
              "      border: none;\n",
              "      border-radius: 50%;\n",
              "      cursor: pointer;\n",
              "      display: none;\n",
              "      fill: #1967D2;\n",
              "      height: 32px;\n",
              "      padding: 0 0 0 0;\n",
              "      width: 32px;\n",
              "    }\n",
              "\n",
              "    .colab-df-convert:hover {\n",
              "      background-color: #E2EBFA;\n",
              "      box-shadow: 0px 1px 2px rgba(60, 64, 67, 0.3), 0px 1px 3px 1px rgba(60, 64, 67, 0.15);\n",
              "      fill: #174EA6;\n",
              "    }\n",
              "\n",
              "    [theme=dark] .colab-df-convert {\n",
              "      background-color: #3B4455;\n",
              "      fill: #D2E3FC;\n",
              "    }\n",
              "\n",
              "    [theme=dark] .colab-df-convert:hover {\n",
              "      background-color: #434B5C;\n",
              "      box-shadow: 0px 1px 3px 1px rgba(0, 0, 0, 0.15);\n",
              "      filter: drop-shadow(0px 1px 2px rgba(0, 0, 0, 0.3));\n",
              "      fill: #FFFFFF;\n",
              "    }\n",
              "  </style>\n",
              "\n",
              "      <script>\n",
              "        const buttonEl =\n",
              "          document.querySelector('#df-4642784f-7fa5-43de-aaa7-deb581ab48e5 button.colab-df-convert');\n",
              "        buttonEl.style.display =\n",
              "          google.colab.kernel.accessAllowed ? 'block' : 'none';\n",
              "\n",
              "        async function convertToInteractive(key) {\n",
              "          const element = document.querySelector('#df-4642784f-7fa5-43de-aaa7-deb581ab48e5');\n",
              "          const dataTable =\n",
              "            await google.colab.kernel.invokeFunction('convertToInteractive',\n",
              "                                                     [key], {});\n",
              "          if (!dataTable) return;\n",
              "\n",
              "          const docLinkHtml = 'Like what you see? Visit the ' +\n",
              "            '<a target=\"_blank\" href=https://colab.research.google.com/notebooks/data_table.ipynb>data table notebook</a>'\n",
              "            + ' to learn more about interactive tables.';\n",
              "          element.innerHTML = '';\n",
              "          dataTable['output_type'] = 'display_data';\n",
              "          await google.colab.output.renderOutput(dataTable, element);\n",
              "          const docLink = document.createElement('div');\n",
              "          docLink.innerHTML = docLinkHtml;\n",
              "          element.appendChild(docLink);\n",
              "        }\n",
              "      </script>\n",
              "    </div>\n",
              "  </div>\n",
              "  "
            ],
            "text/plain": [
              "   FIPS  Num_Per_100k    State   County  Percent_Smokers  Percent_Obese  \\\n",
              "0  1001         107.0  Alabama  Autauga             19.0           36.0   \n",
              "1  1003          82.5  Alabama  Baldwin             17.0           29.0   \n",
              "2  1005          96.1  Alabama  Barbour             22.0           44.0   \n",
              "3  1007         112.3  Alabama     Bibb             20.0           38.0   \n",
              "4  1009          96.1  Alabama   Blount             20.0           36.0   \n",
              "\n",
              "   Food_Environment_Index  Percent_Access_Exercise  \\\n",
              "0                     7.1                     71.0   \n",
              "1                     7.9                     69.0   \n",
              "2                     5.5                     53.0   \n",
              "3                     7.6                     49.0   \n",
              "4                     8.5                     32.0   \n",
              "\n",
              "   Primary_Care_Physician_Rate  Mental_Health_Providers_Rate  \\\n",
              "0                         45.0                          13.0   \n",
              "1                         73.0                          89.0   \n",
              "2                         42.0                           8.0   \n",
              "3                         53.0                           9.0   \n",
              "4                         21.0                           9.0   \n",
              "\n",
              "   Percent_Some_College  Percent_Unemployed  Income_Inequality_Ratio  \\\n",
              "0                  61.9                 5.3                      4.4   \n",
              "1                  63.8                 5.4                      4.6   \n",
              "2                  39.7                 8.6                      5.9   \n",
              "3                  49.8                 6.6                      4.2   \n",
              "4                  53.9                 5.5                      4.1   \n",
              "\n",
              "   Violent_Crime_Rate  Average_Daily_Air_Polution_Particle_Matter  \\\n",
              "0               266.0                                        10.8   \n",
              "1               217.0                                         9.6   \n",
              "2               329.0                                        10.1   \n",
              "3               147.0                                        10.5   \n",
              "4               212.0                                        11.3   \n",
              "\n",
              "   Percent_Long_Commute_Drives_Alone  Percent_Rural  \n",
              "0                               41.0           42.0  \n",
              "1                               40.0           42.3  \n",
              "2                               35.0           67.8  \n",
              "3                               49.0           68.4  \n",
              "4                               60.0           90.0  "
            ]
          },
          "execution_count": 3,
          "metadata": {},
          "output_type": "execute_result"
        }
      ],
      "source": [
        "# Pull in working dataset\n",
        "all_data_df = pd.read_csv(\"All_Data.csv\")\n",
        "all_data_df.head()"
      ]
    },
    {
      "cell_type": "code",
      "execution_count": 4,
      "metadata": {
        "colab": {
          "base_uri": "https://localhost:8080/"
        },
        "id": "Lfqm4RuEc4ya",
        "outputId": "027c5293-ff24-4b46-fb63-512dfac02bad"
      },
      "outputs": [
        {
          "data": {
            "text/plain": [
              "FIPS                                            0\n",
              "Num_Per_100k                                    7\n",
              "State                                           0\n",
              "County                                          0\n",
              "Percent_Smokers                                 0\n",
              "Percent_Obese                                   0\n",
              "Food_Environment_Index                         19\n",
              "Percent_Access_Exercise                         6\n",
              "Primary_Care_Physician_Rate                   134\n",
              "Mental_Health_Providers_Rate                  264\n",
              "Percent_Some_College                            0\n",
              "Percent_Unemployed                              1\n",
              "Income_Inequality_Ratio                         2\n",
              "Violent_Crime_Rate                            176\n",
              "Average_Daily_Air_Polution_Particle_Matter     34\n",
              "Percent_Long_Commute_Drives_Alone               0\n",
              "Percent_Rural                                   7\n",
              "dtype: int64"
            ]
          },
          "execution_count": 4,
          "metadata": {},
          "output_type": "execute_result"
        }
      ],
      "source": [
        "# Check for null values\n",
        "all_data_df.isnull().sum()"
      ]
    },
    {
      "cell_type": "code",
      "execution_count": 5,
      "metadata": {
        "id": "uRqNh52VeTdF"
      },
      "outputs": [],
      "source": [
        "# Drop null values\n",
        "all_data_df = all_data_df.dropna(axis=0)"
      ]
    },
    {
      "cell_type": "code",
      "execution_count": 6,
      "metadata": {
        "colab": {
          "base_uri": "https://localhost:8080/",
          "height": 307
        },
        "id": "TztloevlMKhI",
        "outputId": "f723dbf3-7f3c-4944-c5ae-bfebe9e63686"
      },
      "outputs": [
        {
          "name": "stderr",
          "output_type": "stream",
          "text": [
            "/usr/local/lib/python3.7/dist-packages/ipykernel_launcher.py:2: FutureWarning: In a future version of pandas all arguments of DataFrame.drop except for the argument 'labels' will be keyword-only\n",
            "  \n"
          ]
        },
        {
          "data": {
            "text/html": [
              "\n",
              "  <div id=\"df-f9530520-fdc1-4890-b3f3-6d71ec5fee6e\">\n",
              "    <div class=\"colab-df-container\">\n",
              "      <div>\n",
              "<style scoped>\n",
              "    .dataframe tbody tr th:only-of-type {\n",
              "        vertical-align: middle;\n",
              "    }\n",
              "\n",
              "    .dataframe tbody tr th {\n",
              "        vertical-align: top;\n",
              "    }\n",
              "\n",
              "    .dataframe thead th {\n",
              "        text-align: right;\n",
              "    }\n",
              "</style>\n",
              "<table border=\"1\" class=\"dataframe\">\n",
              "  <thead>\n",
              "    <tr style=\"text-align: right;\">\n",
              "      <th></th>\n",
              "      <th>Num_Per_100k</th>\n",
              "      <th>Percent_Smokers</th>\n",
              "      <th>Percent_Obese</th>\n",
              "      <th>Food_Environment_Index</th>\n",
              "      <th>Percent_Access_Exercise</th>\n",
              "      <th>Primary_Care_Physician_Rate</th>\n",
              "      <th>Mental_Health_Providers_Rate</th>\n",
              "      <th>Percent_Some_College</th>\n",
              "      <th>Percent_Unemployed</th>\n",
              "      <th>Income_Inequality_Ratio</th>\n",
              "      <th>Violent_Crime_Rate</th>\n",
              "      <th>Average_Daily_Air_Polution_Particle_Matter</th>\n",
              "      <th>Percent_Long_Commute_Drives_Alone</th>\n",
              "      <th>Percent_Rural</th>\n",
              "    </tr>\n",
              "  </thead>\n",
              "  <tbody>\n",
              "    <tr>\n",
              "      <th>0</th>\n",
              "      <td>107.0</td>\n",
              "      <td>19.0</td>\n",
              "      <td>36.0</td>\n",
              "      <td>7.1</td>\n",
              "      <td>71.0</td>\n",
              "      <td>45.0</td>\n",
              "      <td>13.0</td>\n",
              "      <td>61.9</td>\n",
              "      <td>5.3</td>\n",
              "      <td>4.4</td>\n",
              "      <td>266.0</td>\n",
              "      <td>10.8</td>\n",
              "      <td>41.0</td>\n",
              "      <td>42.0</td>\n",
              "    </tr>\n",
              "    <tr>\n",
              "      <th>1</th>\n",
              "      <td>82.5</td>\n",
              "      <td>17.0</td>\n",
              "      <td>29.0</td>\n",
              "      <td>7.9</td>\n",
              "      <td>69.0</td>\n",
              "      <td>73.0</td>\n",
              "      <td>89.0</td>\n",
              "      <td>63.8</td>\n",
              "      <td>5.4</td>\n",
              "      <td>4.6</td>\n",
              "      <td>217.0</td>\n",
              "      <td>9.6</td>\n",
              "      <td>40.0</td>\n",
              "      <td>42.3</td>\n",
              "    </tr>\n",
              "    <tr>\n",
              "      <th>2</th>\n",
              "      <td>96.1</td>\n",
              "      <td>22.0</td>\n",
              "      <td>44.0</td>\n",
              "      <td>5.5</td>\n",
              "      <td>53.0</td>\n",
              "      <td>42.0</td>\n",
              "      <td>8.0</td>\n",
              "      <td>39.7</td>\n",
              "      <td>8.6</td>\n",
              "      <td>5.9</td>\n",
              "      <td>329.0</td>\n",
              "      <td>10.1</td>\n",
              "      <td>35.0</td>\n",
              "      <td>67.8</td>\n",
              "    </tr>\n",
              "    <tr>\n",
              "      <th>3</th>\n",
              "      <td>112.3</td>\n",
              "      <td>20.0</td>\n",
              "      <td>38.0</td>\n",
              "      <td>7.6</td>\n",
              "      <td>49.0</td>\n",
              "      <td>53.0</td>\n",
              "      <td>9.0</td>\n",
              "      <td>49.8</td>\n",
              "      <td>6.6</td>\n",
              "      <td>4.2</td>\n",
              "      <td>147.0</td>\n",
              "      <td>10.5</td>\n",
              "      <td>49.0</td>\n",
              "      <td>68.4</td>\n",
              "    </tr>\n",
              "    <tr>\n",
              "      <th>4</th>\n",
              "      <td>96.1</td>\n",
              "      <td>20.0</td>\n",
              "      <td>36.0</td>\n",
              "      <td>8.5</td>\n",
              "      <td>32.0</td>\n",
              "      <td>21.0</td>\n",
              "      <td>9.0</td>\n",
              "      <td>53.9</td>\n",
              "      <td>5.5</td>\n",
              "      <td>4.1</td>\n",
              "      <td>212.0</td>\n",
              "      <td>11.3</td>\n",
              "      <td>60.0</td>\n",
              "      <td>90.0</td>\n",
              "    </tr>\n",
              "  </tbody>\n",
              "</table>\n",
              "</div>\n",
              "      <button class=\"colab-df-convert\" onclick=\"convertToInteractive('df-f9530520-fdc1-4890-b3f3-6d71ec5fee6e')\"\n",
              "              title=\"Convert this dataframe to an interactive table.\"\n",
              "              style=\"display:none;\">\n",
              "        \n",
              "  <svg xmlns=\"http://www.w3.org/2000/svg\" height=\"24px\"viewBox=\"0 0 24 24\"\n",
              "       width=\"24px\">\n",
              "    <path d=\"M0 0h24v24H0V0z\" fill=\"none\"/>\n",
              "    <path d=\"M18.56 5.44l.94 2.06.94-2.06 2.06-.94-2.06-.94-.94-2.06-.94 2.06-2.06.94zm-11 1L8.5 8.5l.94-2.06 2.06-.94-2.06-.94L8.5 2.5l-.94 2.06-2.06.94zm10 10l.94 2.06.94-2.06 2.06-.94-2.06-.94-.94-2.06-.94 2.06-2.06.94z\"/><path d=\"M17.41 7.96l-1.37-1.37c-.4-.4-.92-.59-1.43-.59-.52 0-1.04.2-1.43.59L10.3 9.45l-7.72 7.72c-.78.78-.78 2.05 0 2.83L4 21.41c.39.39.9.59 1.41.59.51 0 1.02-.2 1.41-.59l7.78-7.78 2.81-2.81c.8-.78.8-2.07 0-2.86zM5.41 20L4 18.59l7.72-7.72 1.47 1.35L5.41 20z\"/>\n",
              "  </svg>\n",
              "      </button>\n",
              "      \n",
              "  <style>\n",
              "    .colab-df-container {\n",
              "      display:flex;\n",
              "      flex-wrap:wrap;\n",
              "      gap: 12px;\n",
              "    }\n",
              "\n",
              "    .colab-df-convert {\n",
              "      background-color: #E8F0FE;\n",
              "      border: none;\n",
              "      border-radius: 50%;\n",
              "      cursor: pointer;\n",
              "      display: none;\n",
              "      fill: #1967D2;\n",
              "      height: 32px;\n",
              "      padding: 0 0 0 0;\n",
              "      width: 32px;\n",
              "    }\n",
              "\n",
              "    .colab-df-convert:hover {\n",
              "      background-color: #E2EBFA;\n",
              "      box-shadow: 0px 1px 2px rgba(60, 64, 67, 0.3), 0px 1px 3px 1px rgba(60, 64, 67, 0.15);\n",
              "      fill: #174EA6;\n",
              "    }\n",
              "\n",
              "    [theme=dark] .colab-df-convert {\n",
              "      background-color: #3B4455;\n",
              "      fill: #D2E3FC;\n",
              "    }\n",
              "\n",
              "    [theme=dark] .colab-df-convert:hover {\n",
              "      background-color: #434B5C;\n",
              "      box-shadow: 0px 1px 3px 1px rgba(0, 0, 0, 0.15);\n",
              "      filter: drop-shadow(0px 1px 2px rgba(0, 0, 0, 0.3));\n",
              "      fill: #FFFFFF;\n",
              "    }\n",
              "  </style>\n",
              "\n",
              "      <script>\n",
              "        const buttonEl =\n",
              "          document.querySelector('#df-f9530520-fdc1-4890-b3f3-6d71ec5fee6e button.colab-df-convert');\n",
              "        buttonEl.style.display =\n",
              "          google.colab.kernel.accessAllowed ? 'block' : 'none';\n",
              "\n",
              "        async function convertToInteractive(key) {\n",
              "          const element = document.querySelector('#df-f9530520-fdc1-4890-b3f3-6d71ec5fee6e');\n",
              "          const dataTable =\n",
              "            await google.colab.kernel.invokeFunction('convertToInteractive',\n",
              "                                                     [key], {});\n",
              "          if (!dataTable) return;\n",
              "\n",
              "          const docLinkHtml = 'Like what you see? Visit the ' +\n",
              "            '<a target=\"_blank\" href=https://colab.research.google.com/notebooks/data_table.ipynb>data table notebook</a>'\n",
              "            + ' to learn more about interactive tables.';\n",
              "          element.innerHTML = '';\n",
              "          dataTable['output_type'] = 'display_data';\n",
              "          await google.colab.output.renderOutput(dataTable, element);\n",
              "          const docLink = document.createElement('div');\n",
              "          docLink.innerHTML = docLinkHtml;\n",
              "          element.appendChild(docLink);\n",
              "        }\n",
              "      </script>\n",
              "    </div>\n",
              "  </div>\n",
              "  "
            ],
            "text/plain": [
              "   Num_Per_100k  Percent_Smokers  Percent_Obese  Food_Environment_Index  \\\n",
              "0         107.0             19.0           36.0                     7.1   \n",
              "1          82.5             17.0           29.0                     7.9   \n",
              "2          96.1             22.0           44.0                     5.5   \n",
              "3         112.3             20.0           38.0                     7.6   \n",
              "4          96.1             20.0           36.0                     8.5   \n",
              "\n",
              "   Percent_Access_Exercise  Primary_Care_Physician_Rate  \\\n",
              "0                     71.0                         45.0   \n",
              "1                     69.0                         73.0   \n",
              "2                     53.0                         42.0   \n",
              "3                     49.0                         53.0   \n",
              "4                     32.0                         21.0   \n",
              "\n",
              "   Mental_Health_Providers_Rate  Percent_Some_College  Percent_Unemployed  \\\n",
              "0                          13.0                  61.9                 5.3   \n",
              "1                          89.0                  63.8                 5.4   \n",
              "2                           8.0                  39.7                 8.6   \n",
              "3                           9.0                  49.8                 6.6   \n",
              "4                           9.0                  53.9                 5.5   \n",
              "\n",
              "   Income_Inequality_Ratio  Violent_Crime_Rate  \\\n",
              "0                      4.4               266.0   \n",
              "1                      4.6               217.0   \n",
              "2                      5.9               329.0   \n",
              "3                      4.2               147.0   \n",
              "4                      4.1               212.0   \n",
              "\n",
              "   Average_Daily_Air_Polution_Particle_Matter  \\\n",
              "0                                        10.8   \n",
              "1                                         9.6   \n",
              "2                                        10.1   \n",
              "3                                        10.5   \n",
              "4                                        11.3   \n",
              "\n",
              "   Percent_Long_Commute_Drives_Alone  Percent_Rural  \n",
              "0                               41.0           42.0  \n",
              "1                               40.0           42.3  \n",
              "2                               35.0           67.8  \n",
              "3                               49.0           68.4  \n",
              "4                               60.0           90.0  "
            ]
          },
          "execution_count": 6,
          "metadata": {},
          "output_type": "execute_result"
        }
      ],
      "source": [
        "# Drop identifier columns\n",
        "all_data_usable_df = all_data_df.drop([\"FIPS\", \"State\", \"County\"], 1)\n",
        "all_data_usable_df.head()"
      ]
    },
    {
      "cell_type": "markdown",
      "metadata": {
        "id": "D84Dn78ICqel"
      },
      "source": [
        "Random Forest Regressor - all features"
      ]
    },
    {
      "cell_type": "code",
      "execution_count": 7,
      "metadata": {
        "id": "XfIjKJALCwj-"
      },
      "outputs": [],
      "source": [
        "# https://stackabuse.com/random-forest-algorithm-with-python-and-scikit-learn/\n",
        "# Divide data into attributes and labels\n",
        "\n",
        "X = all_data_usable_df.iloc[:, 1:13].values\n",
        "y = all_data_usable_df.iloc[:, 0].values"
      ]
    },
    {
      "cell_type": "code",
      "execution_count": 8,
      "metadata": {
        "id": "qUKSeOclC4YP"
      },
      "outputs": [],
      "source": [
        "# Divide data into training and testing sets\n",
        "X_train, X_test, y_train, y_test = train_test_split(X, y, test_size=0.2, random_state=0)"
      ]
    },
    {
      "cell_type": "code",
      "execution_count": 9,
      "metadata": {
        "id": "_QHYFpu0C_dT"
      },
      "outputs": [],
      "source": [
        "# Feature Scaling\n",
        "sc = StandardScaler()\n",
        "X_train = sc.fit_transform(X_train)\n",
        "X_test = sc.transform(X_test)"
      ]
    },
    {
      "cell_type": "code",
      "execution_count": 10,
      "metadata": {
        "colab": {
          "base_uri": "https://localhost:8080/"
        },
        "id": "uWVIJ8QrDFC1",
        "outputId": "4145d442-9145-4ce1-f799-215fdd10d3dd"
      },
      "outputs": [
        {
          "name": "stdout",
          "output_type": "stream",
          "text": [
            "Mean Absolute Error: 9.502098298676747\n",
            "Mean Squared Error: 150.77297816635158\n",
            "Root Mean Squared Error: 12.278964865425406\n"
          ]
        }
      ],
      "source": [
        "# Train random forest algorithm to solve this regression problem\n",
        "regressor = RandomForestRegressor(n_estimators=20, random_state=0)\n",
        "regressor.fit(X_train, y_train)\n",
        "y_pred = regressor.predict(X_test)\n",
        "\n",
        "print('Mean Absolute Error:', metrics.mean_absolute_error(y_test, y_pred))\n",
        "print('Mean Squared Error:', metrics.mean_squared_error(y_test, y_pred))\n",
        "print('Root Mean Squared Error:', np.sqrt(metrics.mean_squared_error(y_test, y_pred)))"
      ]
    },
    {
      "cell_type": "code",
      "execution_count": 11,
      "metadata": {
        "colab": {
          "base_uri": "https://localhost:8080/"
        },
        "id": "83Fsnp5iDWtj",
        "outputId": "4fd3d70f-dae7-4af2-b584-b613a7e66b3e"
      },
      "outputs": [
        {
          "name": "stdout",
          "output_type": "stream",
          "text": [
            "Mean Absolute Error: 9.240952741020793\n",
            "Mean Squared Error: 144.93051641587903\n",
            "Root Mean Squared Error: 12.038709084278057\n"
          ]
        }
      ],
      "source": [
        "# Increase estimators to 50\n",
        "regressor2 = RandomForestRegressor(n_estimators=50, random_state=0)\n",
        "regressor2.fit(X_train, y_train)\n",
        "y_pred2 = regressor2.predict(X_test)\n",
        "\n",
        "print('Mean Absolute Error:', metrics.mean_absolute_error(y_test, y_pred2))\n",
        "print('Mean Squared Error:', metrics.mean_squared_error(y_test, y_pred2))\n",
        "print('Root Mean Squared Error:', np.sqrt(metrics.mean_squared_error(y_test, y_pred2)))"
      ]
    },
    {
      "cell_type": "code",
      "execution_count": 12,
      "metadata": {
        "colab": {
          "base_uri": "https://localhost:8080/"
        },
        "id": "OJ1-3h73Do3e",
        "outputId": "6d144e46-bdb2-48b6-9e6e-cf62becde131"
      },
      "outputs": [
        {
          "name": "stdout",
          "output_type": "stream",
          "text": [
            "Mean Absolute Error: 9.387511027095147\n",
            "Mean Squared Error: 149.0808244906532\n",
            "Root Mean Squared Error: 12.209865867021358\n"
          ]
        }
      ],
      "source": [
        "# Change estimators to 30\n",
        "regressor3 = RandomForestRegressor(n_estimators=30, random_state=0)\n",
        "regressor3.fit(X_train, y_train)\n",
        "y_pred3 = regressor3.predict(X_test)\n",
        "\n",
        "print('Mean Absolute Error:', metrics.mean_absolute_error(y_test, y_pred3))\n",
        "print('Mean Squared Error:', metrics.mean_squared_error(y_test, y_pred3))\n",
        "print('Root Mean Squared Error:', np.sqrt(metrics.mean_squared_error(y_test, y_pred3)))"
      ]
    },
    {
      "cell_type": "markdown",
      "metadata": {
        "id": "pul99ZcrEBWO"
      },
      "source": [
        "Random Forest Regressor - health features"
      ]
    },
    {
      "cell_type": "code",
      "execution_count": 13,
      "metadata": {
        "colab": {
          "base_uri": "https://localhost:8080/",
          "height": 243
        },
        "id": "tKkKyL77Np8h",
        "outputId": "be6b66f1-10ad-4efc-9f7a-bc1fb9db5413"
      },
      "outputs": [
        {
          "name": "stderr",
          "output_type": "stream",
          "text": [
            "/usr/local/lib/python3.7/dist-packages/ipykernel_launcher.py:2: FutureWarning: In a future version of pandas all arguments of DataFrame.drop except for the argument 'labels' will be keyword-only\n",
            "  \n"
          ]
        },
        {
          "data": {
            "text/html": [
              "\n",
              "  <div id=\"df-e61d58ee-cd9c-48f3-a48b-8a2c016a441f\">\n",
              "    <div class=\"colab-df-container\">\n",
              "      <div>\n",
              "<style scoped>\n",
              "    .dataframe tbody tr th:only-of-type {\n",
              "        vertical-align: middle;\n",
              "    }\n",
              "\n",
              "    .dataframe tbody tr th {\n",
              "        vertical-align: top;\n",
              "    }\n",
              "\n",
              "    .dataframe thead th {\n",
              "        text-align: right;\n",
              "    }\n",
              "</style>\n",
              "<table border=\"1\" class=\"dataframe\">\n",
              "  <thead>\n",
              "    <tr style=\"text-align: right;\">\n",
              "      <th></th>\n",
              "      <th>Num_Per_100k</th>\n",
              "      <th>Percent_Smokers</th>\n",
              "      <th>Percent_Obese</th>\n",
              "      <th>Food_Environment_Index</th>\n",
              "      <th>Percent_Access_Exercise</th>\n",
              "      <th>Primary_Care_Physician_Rate</th>\n",
              "      <th>Mental_Health_Providers_Rate</th>\n",
              "    </tr>\n",
              "  </thead>\n",
              "  <tbody>\n",
              "    <tr>\n",
              "      <th>0</th>\n",
              "      <td>107.0</td>\n",
              "      <td>19.0</td>\n",
              "      <td>36.0</td>\n",
              "      <td>7.1</td>\n",
              "      <td>71.0</td>\n",
              "      <td>45.0</td>\n",
              "      <td>13.0</td>\n",
              "    </tr>\n",
              "    <tr>\n",
              "      <th>1</th>\n",
              "      <td>82.5</td>\n",
              "      <td>17.0</td>\n",
              "      <td>29.0</td>\n",
              "      <td>7.9</td>\n",
              "      <td>69.0</td>\n",
              "      <td>73.0</td>\n",
              "      <td>89.0</td>\n",
              "    </tr>\n",
              "    <tr>\n",
              "      <th>2</th>\n",
              "      <td>96.1</td>\n",
              "      <td>22.0</td>\n",
              "      <td>44.0</td>\n",
              "      <td>5.5</td>\n",
              "      <td>53.0</td>\n",
              "      <td>42.0</td>\n",
              "      <td>8.0</td>\n",
              "    </tr>\n",
              "    <tr>\n",
              "      <th>3</th>\n",
              "      <td>112.3</td>\n",
              "      <td>20.0</td>\n",
              "      <td>38.0</td>\n",
              "      <td>7.6</td>\n",
              "      <td>49.0</td>\n",
              "      <td>53.0</td>\n",
              "      <td>9.0</td>\n",
              "    </tr>\n",
              "    <tr>\n",
              "      <th>4</th>\n",
              "      <td>96.1</td>\n",
              "      <td>20.0</td>\n",
              "      <td>36.0</td>\n",
              "      <td>8.5</td>\n",
              "      <td>32.0</td>\n",
              "      <td>21.0</td>\n",
              "      <td>9.0</td>\n",
              "    </tr>\n",
              "  </tbody>\n",
              "</table>\n",
              "</div>\n",
              "      <button class=\"colab-df-convert\" onclick=\"convertToInteractive('df-e61d58ee-cd9c-48f3-a48b-8a2c016a441f')\"\n",
              "              title=\"Convert this dataframe to an interactive table.\"\n",
              "              style=\"display:none;\">\n",
              "        \n",
              "  <svg xmlns=\"http://www.w3.org/2000/svg\" height=\"24px\"viewBox=\"0 0 24 24\"\n",
              "       width=\"24px\">\n",
              "    <path d=\"M0 0h24v24H0V0z\" fill=\"none\"/>\n",
              "    <path d=\"M18.56 5.44l.94 2.06.94-2.06 2.06-.94-2.06-.94-.94-2.06-.94 2.06-2.06.94zm-11 1L8.5 8.5l.94-2.06 2.06-.94-2.06-.94L8.5 2.5l-.94 2.06-2.06.94zm10 10l.94 2.06.94-2.06 2.06-.94-2.06-.94-.94-2.06-.94 2.06-2.06.94z\"/><path d=\"M17.41 7.96l-1.37-1.37c-.4-.4-.92-.59-1.43-.59-.52 0-1.04.2-1.43.59L10.3 9.45l-7.72 7.72c-.78.78-.78 2.05 0 2.83L4 21.41c.39.39.9.59 1.41.59.51 0 1.02-.2 1.41-.59l7.78-7.78 2.81-2.81c.8-.78.8-2.07 0-2.86zM5.41 20L4 18.59l7.72-7.72 1.47 1.35L5.41 20z\"/>\n",
              "  </svg>\n",
              "      </button>\n",
              "      \n",
              "  <style>\n",
              "    .colab-df-container {\n",
              "      display:flex;\n",
              "      flex-wrap:wrap;\n",
              "      gap: 12px;\n",
              "    }\n",
              "\n",
              "    .colab-df-convert {\n",
              "      background-color: #E8F0FE;\n",
              "      border: none;\n",
              "      border-radius: 50%;\n",
              "      cursor: pointer;\n",
              "      display: none;\n",
              "      fill: #1967D2;\n",
              "      height: 32px;\n",
              "      padding: 0 0 0 0;\n",
              "      width: 32px;\n",
              "    }\n",
              "\n",
              "    .colab-df-convert:hover {\n",
              "      background-color: #E2EBFA;\n",
              "      box-shadow: 0px 1px 2px rgba(60, 64, 67, 0.3), 0px 1px 3px 1px rgba(60, 64, 67, 0.15);\n",
              "      fill: #174EA6;\n",
              "    }\n",
              "\n",
              "    [theme=dark] .colab-df-convert {\n",
              "      background-color: #3B4455;\n",
              "      fill: #D2E3FC;\n",
              "    }\n",
              "\n",
              "    [theme=dark] .colab-df-convert:hover {\n",
              "      background-color: #434B5C;\n",
              "      box-shadow: 0px 1px 3px 1px rgba(0, 0, 0, 0.15);\n",
              "      filter: drop-shadow(0px 1px 2px rgba(0, 0, 0, 0.3));\n",
              "      fill: #FFFFFF;\n",
              "    }\n",
              "  </style>\n",
              "\n",
              "      <script>\n",
              "        const buttonEl =\n",
              "          document.querySelector('#df-e61d58ee-cd9c-48f3-a48b-8a2c016a441f button.colab-df-convert');\n",
              "        buttonEl.style.display =\n",
              "          google.colab.kernel.accessAllowed ? 'block' : 'none';\n",
              "\n",
              "        async function convertToInteractive(key) {\n",
              "          const element = document.querySelector('#df-e61d58ee-cd9c-48f3-a48b-8a2c016a441f');\n",
              "          const dataTable =\n",
              "            await google.colab.kernel.invokeFunction('convertToInteractive',\n",
              "                                                     [key], {});\n",
              "          if (!dataTable) return;\n",
              "\n",
              "          const docLinkHtml = 'Like what you see? Visit the ' +\n",
              "            '<a target=\"_blank\" href=https://colab.research.google.com/notebooks/data_table.ipynb>data table notebook</a>'\n",
              "            + ' to learn more about interactive tables.';\n",
              "          element.innerHTML = '';\n",
              "          dataTable['output_type'] = 'display_data';\n",
              "          await google.colab.output.renderOutput(dataTable, element);\n",
              "          const docLink = document.createElement('div');\n",
              "          docLink.innerHTML = docLinkHtml;\n",
              "          element.appendChild(docLink);\n",
              "        }\n",
              "      </script>\n",
              "    </div>\n",
              "  </div>\n",
              "  "
            ],
            "text/plain": [
              "   Num_Per_100k  Percent_Smokers  Percent_Obese  Food_Environment_Index  \\\n",
              "0         107.0             19.0           36.0                     7.1   \n",
              "1          82.5             17.0           29.0                     7.9   \n",
              "2          96.1             22.0           44.0                     5.5   \n",
              "3         112.3             20.0           38.0                     7.6   \n",
              "4          96.1             20.0           36.0                     8.5   \n",
              "\n",
              "   Percent_Access_Exercise  Primary_Care_Physician_Rate  \\\n",
              "0                     71.0                         45.0   \n",
              "1                     69.0                         73.0   \n",
              "2                     53.0                         42.0   \n",
              "3                     49.0                         53.0   \n",
              "4                     32.0                         21.0   \n",
              "\n",
              "   Mental_Health_Providers_Rate  \n",
              "0                          13.0  \n",
              "1                          89.0  \n",
              "2                           8.0  \n",
              "3                           9.0  \n",
              "4                           9.0  "
            ]
          },
          "execution_count": 13,
          "metadata": {},
          "output_type": "execute_result"
        }
      ],
      "source": [
        "# Drop non-health feature columns\n",
        "health_features_df = all_data_usable_df.drop([\"Percent_Rural\", \"Percent_Long_Commute_Drives_Alone\", \"Average_Daily_Air_Polution_Particle_Matter\", \"Violent_Crime_Rate\", \"Income_Inequality_Ratio\", \"Percent_Unemployed\", \"Percent_Some_College\"], 1)\n",
        "health_features_df.head()"
      ]
    },
    {
      "cell_type": "code",
      "execution_count": 14,
      "metadata": {
        "id": "rHM2DLIFRI1H"
      },
      "outputs": [],
      "source": [
        "# Divide into attributes and labels\n",
        "X = all_data_usable_df.iloc[:, 1:7].values\n",
        "y = all_data_usable_df.iloc[:, 0].values"
      ]
    },
    {
      "cell_type": "code",
      "execution_count": 15,
      "metadata": {
        "id": "E9VSW4ubRI6M"
      },
      "outputs": [],
      "source": [
        "# Divide data into training and testing sets\n",
        "X_train, X_test, y_train, y_test = train_test_split(X, y, test_size=0.2, random_state=0)"
      ]
    },
    {
      "cell_type": "code",
      "execution_count": 16,
      "metadata": {
        "id": "9Sn-Qb6HRI8p"
      },
      "outputs": [],
      "source": [
        "# Scale Features\n",
        "sc = StandardScaler()\n",
        "X_train = sc.fit_transform(X_train)\n",
        "X_test = sc.transform(X_test)"
      ]
    },
    {
      "cell_type": "code",
      "execution_count": 17,
      "metadata": {
        "colab": {
          "base_uri": "https://localhost:8080/"
        },
        "id": "tl0WND17RI_1",
        "outputId": "4f62d948-7472-4fb8-936e-d9e91db1e81f"
      },
      "outputs": [
        {
          "name": "stdout",
          "output_type": "stream",
          "text": [
            "Mean Absolute Error: 10.390255198487711\n",
            "Mean Squared Error: 178.18698993383742\n",
            "Root Mean Squared Error: 13.348669968721133\n"
          ]
        }
      ],
      "source": [
        "# Train random forest algorithm to solve this regression problem\n",
        "regressor = RandomForestRegressor(n_estimators=20, random_state=0)\n",
        "regressor.fit(X_train, y_train)\n",
        "y_pred = regressor.predict(X_test)\n",
        "\n",
        "print('Mean Absolute Error:', metrics.mean_absolute_error(y_test, y_pred))\n",
        "print('Mean Squared Error:', metrics.mean_squared_error(y_test, y_pred))\n",
        "print('Root Mean Squared Error:', np.sqrt(metrics.mean_squared_error(y_test, y_pred)))"
      ]
    },
    {
      "cell_type": "code",
      "execution_count": 18,
      "metadata": {
        "colab": {
          "base_uri": "https://localhost:8080/"
        },
        "id": "4cwnU6jGNp_t",
        "outputId": "cb3122c5-f80d-4fe7-fa7c-d98ba040fecc"
      },
      "outputs": [
        {
          "name": "stdout",
          "output_type": "stream",
          "text": [
            "Mean Absolute Error: 10.262215500945178\n",
            "Mean Squared Error: 172.17535106238185\n",
            "Root Mean Squared Error: 13.121560542190927\n"
          ]
        }
      ],
      "source": [
        "# Increase estimators to 50\n",
        "regressor2 = RandomForestRegressor(n_estimators=50, random_state=0)\n",
        "regressor2.fit(X_train, y_train)\n",
        "y_pred2 = regressor2.predict(X_test)\n",
        "\n",
        "print('Mean Absolute Error:', metrics.mean_absolute_error(y_test, y_pred2))\n",
        "print('Mean Squared Error:', metrics.mean_squared_error(y_test, y_pred2))\n",
        "print('Root Mean Squared Error:', np.sqrt(metrics.mean_squared_error(y_test, y_pred2)))"
      ]
    },
    {
      "cell_type": "code",
      "execution_count": 19,
      "metadata": {
        "colab": {
          "base_uri": "https://localhost:8080/"
        },
        "id": "OVa1DBbdKdnw",
        "outputId": "a9a8e5a8-87a2-49d4-d1b0-3d1d9b4d2f40"
      },
      "outputs": [
        {
          "name": "stdout",
          "output_type": "stream",
          "text": [
            "Mean Absolute Error: 10.255551354757404\n",
            "Mean Squared Error: 173.63839512707418\n",
            "Root Mean Squared Error: 13.177192232303291\n"
          ]
        }
      ],
      "source": [
        "# Change estimators to 30\n",
        "regressor3 = RandomForestRegressor(n_estimators=30, random_state=0)\n",
        "regressor3.fit(X_train, y_train)\n",
        "y_pred3 = regressor3.predict(X_test)\n",
        "\n",
        "print('Mean Absolute Error:', metrics.mean_absolute_error(y_test, y_pred3))\n",
        "print('Mean Squared Error:', metrics.mean_squared_error(y_test, y_pred3))\n",
        "print('Root Mean Squared Error:', np.sqrt(metrics.mean_squared_error(y_test, y_pred3)))"
      ]
    },
    {
      "cell_type": "markdown",
      "metadata": {
        "id": "hZUOXG_nEwhA"
      },
      "source": [
        "Random Forest Regressor - environment / economic features"
      ]
    },
    {
      "cell_type": "code",
      "execution_count": 20,
      "metadata": {
        "colab": {
          "base_uri": "https://localhost:8080/",
          "height": 243
        },
        "id": "yWbaJm7QKdqj",
        "outputId": "c142552d-9491-4e3a-e5d3-61e5f0164d5e"
      },
      "outputs": [
        {
          "name": "stderr",
          "output_type": "stream",
          "text": [
            "/usr/local/lib/python3.7/dist-packages/ipykernel_launcher.py:1: FutureWarning: In a future version of pandas all arguments of DataFrame.drop except for the argument 'labels' will be keyword-only\n",
            "  \"\"\"Entry point for launching an IPython kernel.\n"
          ]
        },
        {
          "data": {
            "text/html": [
              "\n",
              "  <div id=\"df-346cff7f-8ab7-4cc0-b43d-d816078ec499\">\n",
              "    <div class=\"colab-df-container\">\n",
              "      <div>\n",
              "<style scoped>\n",
              "    .dataframe tbody tr th:only-of-type {\n",
              "        vertical-align: middle;\n",
              "    }\n",
              "\n",
              "    .dataframe tbody tr th {\n",
              "        vertical-align: top;\n",
              "    }\n",
              "\n",
              "    .dataframe thead th {\n",
              "        text-align: right;\n",
              "    }\n",
              "</style>\n",
              "<table border=\"1\" class=\"dataframe\">\n",
              "  <thead>\n",
              "    <tr style=\"text-align: right;\">\n",
              "      <th></th>\n",
              "      <th>Num_Per_100k</th>\n",
              "      <th>Percent_Some_College</th>\n",
              "      <th>Percent_Unemployed</th>\n",
              "      <th>Income_Inequality_Ratio</th>\n",
              "      <th>Violent_Crime_Rate</th>\n",
              "      <th>Average_Daily_Air_Polution_Particle_Matter</th>\n",
              "      <th>Percent_Long_Commute_Drives_Alone</th>\n",
              "      <th>Percent_Rural</th>\n",
              "    </tr>\n",
              "  </thead>\n",
              "  <tbody>\n",
              "    <tr>\n",
              "      <th>0</th>\n",
              "      <td>107.0</td>\n",
              "      <td>61.9</td>\n",
              "      <td>5.3</td>\n",
              "      <td>4.4</td>\n",
              "      <td>266.0</td>\n",
              "      <td>10.8</td>\n",
              "      <td>41.0</td>\n",
              "      <td>42.0</td>\n",
              "    </tr>\n",
              "    <tr>\n",
              "      <th>1</th>\n",
              "      <td>82.5</td>\n",
              "      <td>63.8</td>\n",
              "      <td>5.4</td>\n",
              "      <td>4.6</td>\n",
              "      <td>217.0</td>\n",
              "      <td>9.6</td>\n",
              "      <td>40.0</td>\n",
              "      <td>42.3</td>\n",
              "    </tr>\n",
              "    <tr>\n",
              "      <th>2</th>\n",
              "      <td>96.1</td>\n",
              "      <td>39.7</td>\n",
              "      <td>8.6</td>\n",
              "      <td>5.9</td>\n",
              "      <td>329.0</td>\n",
              "      <td>10.1</td>\n",
              "      <td>35.0</td>\n",
              "      <td>67.8</td>\n",
              "    </tr>\n",
              "    <tr>\n",
              "      <th>3</th>\n",
              "      <td>112.3</td>\n",
              "      <td>49.8</td>\n",
              "      <td>6.6</td>\n",
              "      <td>4.2</td>\n",
              "      <td>147.0</td>\n",
              "      <td>10.5</td>\n",
              "      <td>49.0</td>\n",
              "      <td>68.4</td>\n",
              "    </tr>\n",
              "    <tr>\n",
              "      <th>4</th>\n",
              "      <td>96.1</td>\n",
              "      <td>53.9</td>\n",
              "      <td>5.5</td>\n",
              "      <td>4.1</td>\n",
              "      <td>212.0</td>\n",
              "      <td>11.3</td>\n",
              "      <td>60.0</td>\n",
              "      <td>90.0</td>\n",
              "    </tr>\n",
              "  </tbody>\n",
              "</table>\n",
              "</div>\n",
              "      <button class=\"colab-df-convert\" onclick=\"convertToInteractive('df-346cff7f-8ab7-4cc0-b43d-d816078ec499')\"\n",
              "              title=\"Convert this dataframe to an interactive table.\"\n",
              "              style=\"display:none;\">\n",
              "        \n",
              "  <svg xmlns=\"http://www.w3.org/2000/svg\" height=\"24px\"viewBox=\"0 0 24 24\"\n",
              "       width=\"24px\">\n",
              "    <path d=\"M0 0h24v24H0V0z\" fill=\"none\"/>\n",
              "    <path d=\"M18.56 5.44l.94 2.06.94-2.06 2.06-.94-2.06-.94-.94-2.06-.94 2.06-2.06.94zm-11 1L8.5 8.5l.94-2.06 2.06-.94-2.06-.94L8.5 2.5l-.94 2.06-2.06.94zm10 10l.94 2.06.94-2.06 2.06-.94-2.06-.94-.94-2.06-.94 2.06-2.06.94z\"/><path d=\"M17.41 7.96l-1.37-1.37c-.4-.4-.92-.59-1.43-.59-.52 0-1.04.2-1.43.59L10.3 9.45l-7.72 7.72c-.78.78-.78 2.05 0 2.83L4 21.41c.39.39.9.59 1.41.59.51 0 1.02-.2 1.41-.59l7.78-7.78 2.81-2.81c.8-.78.8-2.07 0-2.86zM5.41 20L4 18.59l7.72-7.72 1.47 1.35L5.41 20z\"/>\n",
              "  </svg>\n",
              "      </button>\n",
              "      \n",
              "  <style>\n",
              "    .colab-df-container {\n",
              "      display:flex;\n",
              "      flex-wrap:wrap;\n",
              "      gap: 12px;\n",
              "    }\n",
              "\n",
              "    .colab-df-convert {\n",
              "      background-color: #E8F0FE;\n",
              "      border: none;\n",
              "      border-radius: 50%;\n",
              "      cursor: pointer;\n",
              "      display: none;\n",
              "      fill: #1967D2;\n",
              "      height: 32px;\n",
              "      padding: 0 0 0 0;\n",
              "      width: 32px;\n",
              "    }\n",
              "\n",
              "    .colab-df-convert:hover {\n",
              "      background-color: #E2EBFA;\n",
              "      box-shadow: 0px 1px 2px rgba(60, 64, 67, 0.3), 0px 1px 3px 1px rgba(60, 64, 67, 0.15);\n",
              "      fill: #174EA6;\n",
              "    }\n",
              "\n",
              "    [theme=dark] .colab-df-convert {\n",
              "      background-color: #3B4455;\n",
              "      fill: #D2E3FC;\n",
              "    }\n",
              "\n",
              "    [theme=dark] .colab-df-convert:hover {\n",
              "      background-color: #434B5C;\n",
              "      box-shadow: 0px 1px 3px 1px rgba(0, 0, 0, 0.15);\n",
              "      filter: drop-shadow(0px 1px 2px rgba(0, 0, 0, 0.3));\n",
              "      fill: #FFFFFF;\n",
              "    }\n",
              "  </style>\n",
              "\n",
              "      <script>\n",
              "        const buttonEl =\n",
              "          document.querySelector('#df-346cff7f-8ab7-4cc0-b43d-d816078ec499 button.colab-df-convert');\n",
              "        buttonEl.style.display =\n",
              "          google.colab.kernel.accessAllowed ? 'block' : 'none';\n",
              "\n",
              "        async function convertToInteractive(key) {\n",
              "          const element = document.querySelector('#df-346cff7f-8ab7-4cc0-b43d-d816078ec499');\n",
              "          const dataTable =\n",
              "            await google.colab.kernel.invokeFunction('convertToInteractive',\n",
              "                                                     [key], {});\n",
              "          if (!dataTable) return;\n",
              "\n",
              "          const docLinkHtml = 'Like what you see? Visit the ' +\n",
              "            '<a target=\"_blank\" href=https://colab.research.google.com/notebooks/data_table.ipynb>data table notebook</a>'\n",
              "            + ' to learn more about interactive tables.';\n",
              "          element.innerHTML = '';\n",
              "          dataTable['output_type'] = 'display_data';\n",
              "          await google.colab.output.renderOutput(dataTable, element);\n",
              "          const docLink = document.createElement('div');\n",
              "          docLink.innerHTML = docLinkHtml;\n",
              "          element.appendChild(docLink);\n",
              "        }\n",
              "      </script>\n",
              "    </div>\n",
              "  </div>\n",
              "  "
            ],
            "text/plain": [
              "   Num_Per_100k  Percent_Some_College  Percent_Unemployed  \\\n",
              "0         107.0                  61.9                 5.3   \n",
              "1          82.5                  63.8                 5.4   \n",
              "2          96.1                  39.7                 8.6   \n",
              "3         112.3                  49.8                 6.6   \n",
              "4          96.1                  53.9                 5.5   \n",
              "\n",
              "   Income_Inequality_Ratio  Violent_Crime_Rate  \\\n",
              "0                      4.4               266.0   \n",
              "1                      4.6               217.0   \n",
              "2                      5.9               329.0   \n",
              "3                      4.2               147.0   \n",
              "4                      4.1               212.0   \n",
              "\n",
              "   Average_Daily_Air_Polution_Particle_Matter  \\\n",
              "0                                        10.8   \n",
              "1                                         9.6   \n",
              "2                                        10.1   \n",
              "3                                        10.5   \n",
              "4                                        11.3   \n",
              "\n",
              "   Percent_Long_Commute_Drives_Alone  Percent_Rural  \n",
              "0                               41.0           42.0  \n",
              "1                               40.0           42.3  \n",
              "2                               35.0           67.8  \n",
              "3                               49.0           68.4  \n",
              "4                               60.0           90.0  "
            ]
          },
          "execution_count": 20,
          "metadata": {},
          "output_type": "execute_result"
        }
      ],
      "source": [
        "ee_features_df = all_data_usable_df.drop([\"Percent_Smokers\", \"Percent_Obese\", \"Food_Environment_Index\", \"Percent_Access_Exercise\", \"Primary_Care_Physician_Rate\", \"Mental_Health_Providers_Rate\"], 1)\n",
        "ee_features_df.head()"
      ]
    },
    {
      "cell_type": "code",
      "execution_count": 21,
      "metadata": {
        "id": "8B9QIgSC6YzN"
      },
      "outputs": [],
      "source": [
        "# Divide into attributes and labels\n",
        "X = all_data_usable_df.iloc[:, 1:6].values\n",
        "y = all_data_usable_df.iloc[:, 0].values"
      ]
    },
    {
      "cell_type": "code",
      "execution_count": 22,
      "metadata": {
        "id": "fKlSONvwFXtq"
      },
      "outputs": [],
      "source": [
        "# Divide data into training and testing sets\n",
        "X_train, X_test, y_train, y_test = train_test_split(X, y, test_size=0.2, random_state=0)"
      ]
    },
    {
      "cell_type": "code",
      "execution_count": 23,
      "metadata": {
        "id": "8yUBUzagFbfU"
      },
      "outputs": [],
      "source": [
        "# Scale Features\n",
        "sc = StandardScaler()\n",
        "X_train = sc.fit_transform(X_train)\n",
        "X_test = sc.transform(X_test)"
      ]
    },
    {
      "cell_type": "code",
      "execution_count": 24,
      "metadata": {
        "colab": {
          "base_uri": "https://localhost:8080/"
        },
        "id": "N7cMm9TXFe5c",
        "outputId": "71c9411d-8e1c-4c33-f213-8ce99198bd8b"
      },
      "outputs": [
        {
          "name": "stdout",
          "output_type": "stream",
          "text": [
            "Mean Absolute Error: 10.528317580340264\n",
            "Mean Squared Error: 182.19479536862002\n",
            "Root Mean Squared Error: 13.49795522916786\n"
          ]
        }
      ],
      "source": [
        "# Train random forest algorithm to solve this regression problem\n",
        "regressor = RandomForestRegressor(n_estimators=20, random_state=0)\n",
        "regressor.fit(X_train, y_train)\n",
        "y_pred = regressor.predict(X_test)\n",
        "\n",
        "print('Mean Absolute Error:', metrics.mean_absolute_error(y_test, y_pred))\n",
        "print('Mean Squared Error:', metrics.mean_squared_error(y_test, y_pred))\n",
        "print('Root Mean Squared Error:', np.sqrt(metrics.mean_squared_error(y_test, y_pred)))"
      ]
    },
    {
      "cell_type": "code",
      "execution_count": 25,
      "metadata": {
        "colab": {
          "base_uri": "https://localhost:8080/"
        },
        "id": "nT2jdvSQFg18",
        "outputId": "f10fa220-06f0-4883-eef3-375b96bdd771"
      },
      "outputs": [
        {
          "name": "stdout",
          "output_type": "stream",
          "text": [
            "Mean Absolute Error: 10.329909262759925\n",
            "Mean Squared Error: 174.4235131115312\n",
            "Root Mean Squared Error: 13.20694942488731\n"
          ]
        }
      ],
      "source": [
        "# Increase estimators to 50\n",
        "regressor2 = RandomForestRegressor(n_estimators=50, random_state=0)\n",
        "regressor2.fit(X_train, y_train)\n",
        "y_pred2 = regressor2.predict(X_test)\n",
        "\n",
        "print('Mean Absolute Error:', metrics.mean_absolute_error(y_test, y_pred2))\n",
        "print('Mean Squared Error:', metrics.mean_squared_error(y_test, y_pred2))\n",
        "print('Root Mean Squared Error:', np.sqrt(metrics.mean_squared_error(y_test, y_pred2)))"
      ]
    },
    {
      "cell_type": "code",
      "execution_count": 26,
      "metadata": {
        "colab": {
          "base_uri": "https://localhost:8080/"
        },
        "id": "c-6OK_RkFkW3",
        "outputId": "4fc006e8-c4b7-4fde-a08a-707de233cc0c"
      },
      "outputs": [
        {
          "name": "stdout",
          "output_type": "stream",
          "text": [
            "Mean Absolute Error: 10.43471329552615\n",
            "Mean Squared Error: 178.69157187565636\n",
            "Root Mean Squared Error: 13.367556690572005\n"
          ]
        }
      ],
      "source": [
        "# Change estimators to 30\n",
        "regressor3 = RandomForestRegressor(n_estimators=30, random_state=0)\n",
        "regressor3.fit(X_train, y_train)\n",
        "y_pred3 = regressor3.predict(X_test)\n",
        "\n",
        "print('Mean Absolute Error:', metrics.mean_absolute_error(y_test, y_pred3))\n",
        "print('Mean Squared Error:', metrics.mean_squared_error(y_test, y_pred3))\n",
        "print('Root Mean Squared Error:', np.sqrt(metrics.mean_squared_error(y_test, y_pred3)))"
      ]
    },
    {
      "cell_type": "markdown",
      "metadata": {
        "id": "t0WX49QAFm17"
      },
      "source": [
        "Random Forest Regressor - features of importance"
      ]
    },
    {
      "cell_type": "code",
      "execution_count": null,
      "metadata": {
        "id": "SSqyitXtFruI"
      },
      "outputs": [],
      "source": []
    }
  ],
  "metadata": {
    "colab": {
      "collapsed_sections": [],
      "name": "FileLoad_RFR_draft_project_ML.ipynb",
      "provenance": []
    },
    "kernelspec": {
      "display_name": "Python 3",
      "name": "python3"
    },
    "language_info": {
      "name": "python"
    }
  },
  "nbformat": 4,
  "nbformat_minor": 0
}
